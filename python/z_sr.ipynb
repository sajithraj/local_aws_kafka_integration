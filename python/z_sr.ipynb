{
 "cells": [
  {
   "cell_type": "code",
   "execution_count": null,
   "metadata": {},
   "outputs": [],
   "source": [
    "# ! pip install kafka-python  "
   ]
  },
  {
   "cell_type": "code",
   "execution_count": null,
   "metadata": {},
   "outputs": [],
   "source": [
    "from time import sleep  \n",
    "from json import dumps  \n",
    "from kafka import KafkaProducer "
   ]
  },
  {
   "cell_type": "code",
   "execution_count": null,
   "metadata": {},
   "outputs": [],
   "source": [
    "my_producer = KafkaProducer(  \n",
    "    bootstrap_servers = ['localhost:9092'],  \n",
    "    value_serializer = lambda x:dumps(x).encode('utf-8')  \n",
    "    )  "
   ]
  },
  {
   "cell_type": "code",
   "execution_count": null,
   "metadata": {},
   "outputs": [],
   "source": [
    "for n in range(5):  \n",
    "    my_data = {'num' : n}  \n",
    "    print(\"my_data \" , my_data)\n",
    "    my_producer.send('test', value = my_data)  \n",
    "    # my_producer.send('testnum', value = my_data)  \n",
    "    sleep(2)"
   ]
  },
  {
   "cell_type": "code",
   "execution_count": null,
   "metadata": {},
   "outputs": [],
   "source": [
    "from json import loads  \n",
    "from kafka import KafkaConsumer\n",
    "\n",
    "my_consumer = KafkaConsumer(  \n",
    "    'testnum',  \n",
    "     bootstrap_servers = ['localhost : 9092'],  \n",
    "     auto_offset_reset = 'earliest',  \n",
    "     enable_auto_commit = True,  \n",
    "     group_id = 'my-group',  \n",
    "     value_deserializer = lambda x : loads(x.decode('utf-8'))  \n",
    "     )  "
   ]
  },
  {
   "cell_type": "code",
   "execution_count": null,
   "metadata": {},
   "outputs": [],
   "source": [
    "for message in my_consumer:  \n",
    "    message = message.value  \n",
    "    print(message )  "
   ]
  }
 ],
 "metadata": {
  "kernelspec": {
   "display_name": "Python 3",
   "language": "python",
   "name": "python3"
  },
  "language_info": {
   "codemirror_mode": {
    "name": "ipython",
    "version": 3
   },
   "file_extension": ".py",
   "mimetype": "text/x-python",
   "name": "python",
   "nbconvert_exporter": "python",
   "pygments_lexer": "ipython3",
   "version": "3.11.3"
  }
 },
 "nbformat": 4,
 "nbformat_minor": 2
}
